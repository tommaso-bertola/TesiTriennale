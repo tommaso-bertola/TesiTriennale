{
 "cells": [
  {
   "cell_type": "code",
   "execution_count": 3,
   "id": "1f98413b",
   "metadata": {},
   "outputs": [],
   "source": [
    "# Load necessary libraries\n",
    "import numpy as np\n",
    "import matplotlib.pyplot as plt\n",
    "import matplotlib.colors as colors\n",
    "#import networkx as nx"
   ]
  },
  {
   "cell_type": "markdown",
   "id": "59b970ff",
   "metadata": {},
   "source": [
    "## Connettoma\n",
    "Carico il file del connettoma. In questo esempio carico la matrice mediata fra i 5 individui del connettoma.\n",
    "\n",
    "Il connettoma è qui inteso come un _undirected graph_ dove i pesi tra i nodi, altresì detti _edges_, rappresentati nella matrice di adiacenza $$W_{i,j}=W_{j,i}\\, \\forall i,j$$\n",
    "dando dunque luogo ad una matrice simmetrica"
   ]
  },
  {
   "cell_type": "code",
   "execution_count": 4,
   "id": "5d8c9ed0",
   "metadata": {},
   "outputs": [
    {
     "data": {
      "image/png": "[encoded data removed]",
      "text/plain": [
       "<Figure size 432x288 with 1 Axes>"
      ]
     },
     "metadata": {
      "needs_background": "light"
     },
     "output_type": "display_data"
    },
    {
     "name": "stdout",
     "output_type": "stream",
     "text": [
      "Dimensions: (998, 998)\n"
     ]
    }
   ],
   "source": [
    "# Load connectome from file\n",
    "W=np.loadtxt(\"../Data/Hagmann/group_mean_connectivity_matrix_file.txt\")\n",
    "\n",
    "#Show the connectome matrix M\n",
    "plt.imshow(W[0:66,0:66],norm=colors.LogNorm(vmin=W.min(), vmax=W.max()),cmap='bwr')\n",
    "plt.show()\n",
    "print(\"Dimensions:\", W.shape)\n",
    "neurons=W.shape[0]"
   ]
  },
  {
   "cell_type": "code",
   "execution_count": 10,
   "id": "2e609bcb",
   "metadata": {},
   "outputs": [
    {
     "data": {
      "text/plain": [
       "(998,)"
      ]
     },
     "execution_count": 10,
     "metadata": {},
     "output_type": "execute_result"
    }
   ],
   "source": [
    "# Global variables\n",
    "timesteps=40 #total time step\n",
    "dt=0.1 #seconds\n",
    "\n",
    "r1=2/66\n",
    "r2=r1**(1./5.)\n",
    "T=0.07 #threshold\n",
    "\n",
    "#r2\n",
    "\n",
    "#W.sum(axis=0).mean()* r2/(1+2*r2)\n",
    "W.sum(axis=0).shape"
   ]
  },
  {
   "cell_type": "markdown",
   "id": "3783a561",
   "metadata": {},
   "source": [
    "## Considerazioni sul connettoma\n",
    "### Diagonali nulle"
   ]
  },
  {
   "cell_type": "code",
   "execution_count": 6,
   "id": "2a979975",
   "metadata": {},
   "outputs": [
    {
     "data": {
      "text/plain": [
       "array([False, False, False, False, False, False, False, False, False,\n",
       "       False, False, False, False, False, False, False, False, False,\n",
       "       False, False, False, False, False, False, False, False, False,\n",
       "       False, False, False, False, False, False, False, False, False,\n",
       "       False, False, False, False, False, False, False, False, False,\n",
       "       False, False, False, False, False, False, False, False, False,\n",
       "       False, False, False, False, False, False, False, False, False,\n",
       "       False, False, False, False, False, False, False, False, False,\n",
       "       False, False, False, False, False, False, False, False, False,\n",
       "       False, False, False, False, False, False, False, False, False,\n",
       "       False, False, False, False, False, False, False, False, False,\n",
       "       False, False, False, False, False, False, False, False, False,\n",
       "       False, False, False, False, False, False, False, False, False,\n",
       "       False, False, False, False, False, False, False, False, False,\n",
       "       False, False, False, False, False, False, False, False, False,\n",
       "       False, False, False, False, False, False, False, False, False,\n",
       "       False, False, False, False, False, False, False, False, False,\n",
       "       False, False, False, False, False, False, False, False, False,\n",
       "       False, False, False, False, False, False, False, False, False,\n",
       "       False, False, False, False, False, False, False, False, False,\n",
       "       False, False, False, False, False, False, False, False, False,\n",
       "       False, False, False, False, False, False, False, False, False,\n",
       "       False, False, False, False, False, False, False, False, False,\n",
       "       False, False, False, False, False, False, False, False, False,\n",
       "       False, False, False, False, False, False, False, False, False,\n",
       "       False, False, False, False, False, False, False, False, False,\n",
       "       False, False, False, False, False, False, False, False, False,\n",
       "       False, False, False, False, False, False, False, False, False,\n",
       "       False, False, False, False, False, False, False, False, False,\n",
       "       False, False, False, False, False, False, False, False, False,\n",
       "       False, False, False, False, False, False, False, False, False,\n",
       "       False, False, False, False, False, False, False, False, False,\n",
       "       False, False, False, False, False, False, False, False, False,\n",
       "       False, False, False, False, False, False, False, False, False,\n",
       "       False, False, False, False, False, False, False, False, False,\n",
       "       False, False, False, False, False, False, False, False, False,\n",
       "       False, False, False, False, False, False, False, False, False,\n",
       "       False, False, False, False, False, False, False, False, False,\n",
       "       False, False, False, False, False, False, False, False, False,\n",
       "       False, False, False, False, False, False, False, False, False,\n",
       "       False, False, False, False, False, False, False, False, False,\n",
       "       False, False, False, False, False, False, False, False, False,\n",
       "       False, False, False, False, False, False, False, False, False,\n",
       "       False, False, False, False, False, False, False, False, False,\n",
       "       False, False, False, False, False, False, False, False, False,\n",
       "       False, False, False, False, False, False, False, False, False,\n",
       "       False, False, False, False, False, False, False, False, False,\n",
       "       False, False, False, False, False, False, False, False, False,\n",
       "       False, False, False, False, False, False, False, False, False,\n",
       "       False, False, False, False, False, False, False, False, False,\n",
       "       False, False, False, False, False, False, False, False, False,\n",
       "       False, False, False, False, False, False, False, False, False,\n",
       "       False, False, False, False, False, False, False, False, False,\n",
       "       False, False, False, False, False, False, False, False, False,\n",
       "       False, False, False, False, False, False, False, False, False,\n",
       "       False, False, False, False, False, False, False, False, False,\n",
       "       False, False, False, False, False, False, False, False, False,\n",
       "       False, False, False, False, False, False, False, False, False,\n",
       "       False, False, False, False, False, False, False, False, False,\n",
       "       False, False, False, False, False, False, False, False, False,\n",
       "       False, False, False, False, False, False, False, False, False,\n",
       "       False, False, False, False, False, False, False, False, False,\n",
       "       False, False, False, False, False, False, False, False, False,\n",
       "       False, False, False, False, False, False, False, False, False,\n",
       "       False, False, False, False, False, False, False, False, False,\n",
       "       False, False, False, False, False, False, False, False, False,\n",
       "       False, False, False, False, False, False, False, False, False,\n",
       "       False, False, False, False, False, False, False, False, False,\n",
       "       False, False, False, False, False, False, False, False, False,\n",
       "       False, False, False, False, False, False, False, False, False,\n",
       "       False, False, False, False, False, False, False, False, False,\n",
       "       False, False, False, False, False, False, False, False, False,\n",
       "       False, False, False, False, False, False, False, False, False,\n",
       "       False, False, False, False, False, False, False, False, False,\n",
       "       False, False, False, False, False, False, False, False, False,\n",
       "       False, False, False, False, False, False, False, False, False,\n",
       "       False, False, False, False, False, False, False, False, False,\n",
       "       False, False, False, False, False, False, False, False, False,\n",
       "       False, False, False, False, False, False, False, False, False,\n",
       "       False, False, False, False, False, False, False, False, False,\n",
       "       False, False, False, False, False, False, False, False, False,\n",
       "       False, False, False, False, False, False, False, False, False,\n",
       "       False, False, False, False, False, False, False, False, False,\n",
       "       False, False, False, False, False, False, False, False, False,\n",
       "       False, False, False, False, False, False, False, False, False,\n",
       "       False, False, False, False, False, False, False, False, False,\n",
       "       False, False, False, False, False, False, False, False, False,\n",
       "       False, False, False, False, False, False, False, False, False,\n",
       "       False, False, False, False, False, False, False, False, False,\n",
       "       False, False, False, False, False, False, False, False, False,\n",
       "       False, False, False, False, False, False, False, False, False,\n",
       "       False, False, False, False, False, False, False, False, False,\n",
       "       False, False, False, False, False, False, False, False, False,\n",
       "       False, False, False, False, False, False, False, False, False,\n",
       "       False, False, False, False, False, False, False, False, False,\n",
       "       False, False, False, False, False, False, False, False, False,\n",
       "       False, False, False, False, False, False, False, False, False,\n",
       "       False, False, False, False, False, False, False, False, False,\n",
       "       False, False, False, False, False, False, False, False, False,\n",
       "       False, False, False, False, False, False, False, False, False,\n",
       "       False, False, False, False, False, False, False, False, False,\n",
       "       False, False, False, False, False, False, False, False, False,\n",
       "       False, False, False, False, False, False, False, False, False,\n",
       "       False, False, False, False, False, False, False, False, False,\n",
       "       False, False, False, False, False, False, False, False, False,\n",
       "       False, False, False, False, False, False, False, False, False,\n",
       "       False, False, False, False, False, False, False, False, False,\n",
       "       False, False, False, False, False, False, False, False, False,\n",
       "       False, False, False, False, False, False, False, False, False,\n",
       "       False, False, False, False, False, False, False, False, False,\n",
       "       False, False, False, False, False, False, False, False])"
      ]
     },
     "execution_count": 6,
     "metadata": {},
     "output_type": "execute_result"
    }
   ],
   "source": [
    "W.sum(axis=1)==0"
   ]
  },
  {
   "cell_type": "code",
   "execution_count": 4,
   "id": "ace61145",
   "metadata": {},
   "outputs": [],
   "source": [
    "#All diagonal elements are set to 0.0\n",
    "for i in range(W.shape[0]):\n",
    "    if W[i,i]!=0:\n",
    "        print(W[i,i])\n",
    "    else:\n",
    "        pass"
   ]
  },
  {
   "cell_type": "markdown",
   "id": "d045dfa1",
   "metadata": {},
   "source": [
    "### Distribuzione di in-degree per tutti i nodi"
   ]
  },
  {
   "cell_type": "code",
   "execution_count": 5,
   "id": "28e93c08",
   "metadata": {},
   "outputs": [
    {
     "data": {
      "image/png": "[encoded data removed]",
      "text/plain": [
       "<Figure size 432x288 with 1 Axes>"
      ]
     },
     "metadata": {
      "needs_background": "light"
     },
     "output_type": "display_data"
    }
   ],
   "source": [
    "_=plt.hist(W.sum(axis=0),30)\n",
    "plt.title(\"Histogram of in-degree for all the nodes in W\")\n",
    "plt.show()"
   ]
  },
  {
   "cell_type": "code",
   "execution_count": 6,
   "id": "7b5357a5",
   "metadata": {},
   "outputs": [
    {
     "data": {
      "image/png": "[encoded data removed]",
      "text/plain": [
       "<Figure size 432x288 with 1 Axes>"
      ]
     },
     "metadata": {
      "needs_background": "light"
     },
     "output_type": "display_data"
    }
   ],
   "source": [
    "_=plt.hist(np.count_nonzero(W, axis=0),30)\n",
    "plt.title(\"Non-zero-weight connections for each node\")\n",
    "plt.show()"
   ]
  },
  {
   "cell_type": "code",
   "execution_count": 7,
   "id": "4bb053ea",
   "metadata": {},
   "outputs": [],
   "source": [
    "# Graphics stuff\n",
    "\n",
    "#graph=nx.from_numpy_matrix(W)\n",
    "#nx.draw(graph)\n",
    "#nx.to_edgelist(graph)\n",
    "#nx.write_gexf(graph, \"test.gexf\")"
   ]
  },
  {
   "cell_type": "markdown",
   "id": "73146e24",
   "metadata": {},
   "source": [
    "## Normalizzazione\n",
    "Si procede come suggerito nel paper Rocha et al. alla normalizzazione della matrice di adiacenza secondo la seguente:\n",
    "$$\\widetilde{W_{ij}}=\\frac{W_{ij}}{\\sum_j W_{ij}}$$"
   ]
  },
  {
   "cell_type": "code",
   "execution_count": 8,
   "id": "ef010800",
   "metadata": {},
   "outputs": [],
   "source": [
    "#Sum is carried out through every i-th line in the M matrix\n",
    "#and then put to the \"vertical\" form\n",
    "#so as to every i-th line is divided by the right sum\n",
    "nor_W=W/W.sum(axis=1)[:,None]"
   ]
  },
  {
   "cell_type": "markdown",
   "id": "d5e052e8",
   "metadata": {},
   "source": [
    "## Stati dei neuroni\n",
    "Creo una matrice di dimensione _time steps x # neuroni_. Per esempio 300x998. \n",
    "\n",
    "Inizializzo in maniera random il primo time step con valori da -1 a 1 compresi. Si ha il seguente dizionario di conversione: -1: refrattario, 0: inattivo, 1 attivo"
   ]
  },
  {
   "cell_type": "code",
   "execution_count": 9,
   "id": "864a59a7",
   "metadata": {},
   "outputs": [],
   "source": [
    "#Create matrix of states for each neuron and each time step\n",
    "A=np.zeros((timesteps,neurons))\n",
    "\n",
    "#Initialize first state of activation of neurons\n",
    "A[0]=np.random.randint(3,size=neurons)-1"
   ]
  },
  {
   "cell_type": "markdown",
   "id": "548ef6b6",
   "metadata": {},
   "source": [
    "## Simulazione"
   ]
  },
  {
   "cell_type": "code",
   "execution_count": 10,
   "id": "d0306bbe",
   "metadata": {},
   "outputs": [],
   "source": [
    "#Function defining the simulation behaviour\n",
    "def refractory2deactive(r2):\n",
    "    if np.random.rand()<r2:\n",
    "        return 0\n",
    "    else :\n",
    "        return -1\n",
    "\n",
    "def deactive2active(old_state, W, T):\n",
    "    temp_state=np.zeros(len(old_state))\n",
    "    for neuron in range(neurons):\n",
    "        if old_state[neuron]==-1:\n",
    "            temp_state[neuron]=0\n",
    "        elif old_state[neuron]==1:\n",
    "            temp_state[neuron]=1\n",
    "        \n",
    "    \n",
    "            \n",
    "    if W[neuron]@temp_state>T or np.random.rand()<r1:\n",
    "        return 1\n",
    "    else:\n",
    "        return 0\n",
    "\n",
    "def update_state(A, timestep, W, r2, T):\n",
    "    temp_state=np.zeros(neurons)\n",
    "    for neuron in range(neurons):\n",
    "        if A[timestep, neuron]==1:\n",
    "            temp_state[neuron]=-1\n",
    "        elif A[timestep, neuron]==-1:\n",
    "            #probability r2\n",
    "            temp_state[neuron]=refractory2deactive(r2)\n",
    "        elif A[timestep,neuron]==0:\n",
    "            #temp_state[neuron]=0\n",
    "            #sum of incoming active nodes\n",
    "            temp_state[neuron]=deactive2active(A[timestep], W, T)\n",
    "    return temp_state\n",
    " "
   ]
  },
  {
   "cell_type": "code",
   "execution_count": 11,
   "id": "2154e749",
   "metadata": {},
   "outputs": [],
   "source": [
    "# Simulation\n",
    "#for timestep in range(1,timesteps-1):\n",
    "#    A[timestep]=update_state(A, timestep-1, nor_W, r2, T)"
   ]
  },
  {
   "cell_type": "code",
   "execution_count": 12,
   "id": "471251ad",
   "metadata": {},
   "outputs": [],
   "source": [
    "#plt.imshow(A[:,:], cmap='bwr')\n",
    "#plt.show()"
   ]
  },
  {
   "cell_type": "code",
   "execution_count": 13,
   "id": "187e214c",
   "metadata": {},
   "outputs": [],
   "source": [
    "#S=np.random.rand(30,30)"
   ]
  },
  {
   "cell_type": "code",
   "execution_count": 14,
   "id": "b2389a0d",
   "metadata": {},
   "outputs": [],
   "source": [
    "#(S>0.5).astype(np.float64)"
   ]
  }
 ],
 "metadata": {
  "kernelspec": {
   "display_name": "Python 3 (ipykernel)",
   "language": "python",
   "name": "python3"
  },
  "language_info": {
   "codemirror_mode": {
    "name": "ipython",
    "version": 3
   },
   "file_extension": ".py",
   "mimetype": "text/x-python",
   "name": "python",
   "nbconvert_exporter": "python",
   "pygments_lexer": "ipython3",
   "version": "3.8.13"
  },
  "vscode": {
   "interpreter": {
    "hash": "697a27af8a81923c2d5689a6bd156e855eff26f4d235e531a73686e0c969e82d"
   }
  }
 },
 "nbformat": 4,
 "nbformat_minor": 5
}
