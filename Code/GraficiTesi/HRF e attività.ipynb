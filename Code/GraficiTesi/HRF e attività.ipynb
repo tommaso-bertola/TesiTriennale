{
 "cells": [
  {
   "cell_type": "code",
   "execution_count": 2,
   "id": "cfe21b1e",
   "metadata": {},
   "outputs": [],
   "source": [
    "import numpy as np\n",
    "import matplotlib.pyplot as plt"
   ]
  },
  {
   "cell_type": "code",
   "execution_count": 3,
   "id": "1bd90b1a",
   "metadata": {},
   "outputs": [],
   "source": [
    "#%matplotlib notebook \n"
   ]
  },
  {
   "cell_type": "code",
   "execution_count": 4,
   "id": "01f887b2",
   "metadata": {},
   "outputs": [],
   "source": [
    "n_timesteps=6000\n",
    "s=np.zeros(6000)\n",
    "s[1000]=1\n",
    "s[1070]=1\n",
    "sample_rate=1/0.1\n",
    "nyquist_freq=sample_rate/2\n",
    "a1=6\n",
    "a2=12\n",
    "b=0.9\n",
    "c=0.35\n",
    "d1=a1*b\n",
    "d2=a2*b\n",
    "\n",
    "time=np.arange(n_timesteps)/sample_rate\n",
    "tt=np.arange(250)/sample_rate\n",
    "\n",
    "hrf=((tt/d1)**a1)*np.exp(-(tt-d1)/b)-c*((tt/d2)**a2)*np.exp(-(tt-d2)/b)\n"
   ]
  },
  {
   "cell_type": "code",
   "execution_count": 5,
   "id": "d41fb33b",
   "metadata": {},
   "outputs": [
    {
     "name": "stdout",
     "output_type": "stream",
     "text": [
      "5751 5751\n"
     ]
    }
   ],
   "source": [
    "out=np.convolve(hrf,s, mode='valid')\n",
    "print(len(s)-len(hrf)+1, len(out))"
   ]
  },
  {
   "cell_type": "code",
   "execution_count": 17,
   "id": "1be92c57",
   "metadata": {},
   "outputs": [
    {
     "data": {
      "image/png": "[encoded data removed]",
      "text/plain": [
       "<Figure size 216x216 with 1 Axes>"
      ]
     },
     "metadata": {
      "needs_background": "light"
     },
     "output_type": "display_data"
    }
   ],
   "source": [
    "fig,ax=plt.subplots(figsize=(3,3))\n",
    "plt.plot(time,s, label='Segnale', color='b')\n",
    "#plt.plot(tt,hrf,label='hrf')\n",
    "plt.plot(time[0+len(hrf)-1:len(out)+len(hrf)-1], out, label='Segnale fMRI', color='r')\n",
    "#plt.legend()\n",
    "plt.xlim(95,130)\n",
    "plt.ylim(-0.3,1.1)\n",
    "plt.grid(linestyle='dotted')\n",
    "plt.xlabel('Tempo [s]')\n",
    "plt.ylabel('Ampiezza [u.a.]')\n",
    "ax.set_xticklabels([])\n",
    "ax.set_yticklabels([])\n",
    "\n",
    "plt.savefig('../../FigurePowerPoint/esempio_convoluzione.svg', bbox_inches='tight')\n",
    "plt.show()"
   ]
  },
  {
   "cell_type": "code",
   "execution_count": null,
   "id": "1368aff7",
   "metadata": {},
   "outputs": [],
   "source": []
  }
 ],
 "metadata": {
  "kernelspec": {
   "display_name": "Python 3 (ipykernel)",
   "language": "python",
   "name": "python3"
  },
  "language_info": {
   "codemirror_mode": {
    "name": "ipython",
    "version": 3
   },
   "file_extension": ".py",
   "mimetype": "text/x-python",
   "name": "python",
   "nbconvert_exporter": "python",
   "pygments_lexer": "ipython3",
   "version": "3.8.13"
  }
 },
 "nbformat": 4,
 "nbformat_minor": 5
}
