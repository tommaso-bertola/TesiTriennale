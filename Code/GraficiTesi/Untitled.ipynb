{
 "cells": [
  {
   "cell_type": "code",
   "execution_count": 2,
   "id": "1d93df35",
   "metadata": {},
   "outputs": [],
   "source": [
    "import networkx as nx\n",
    "import numpy as np\n",
    "\n",
    "# The graph to visualize\n",
    "G = nx.cycle_graph(20)\n",
    "\n",
    "# 3d spring layout\n",
    "pos = nx.spring_layout(G, dim=3, seed=779)\n",
    "# Extract node and edge positions from the layout\n",
    "node_xyz = np.array([pos[v] for v in sorted(G)])\n",
    "edge_xyz = np.array([(pos[u], pos[v]) for u, v in G.edges()])"
   ]
  },
  {
   "cell_type": "code",
   "execution_count": 8,
   "id": "1014f760",
   "metadata": {},
   "outputs": [
    {
     "data": {
      "text/plain": [
       "(20, 2, 3)"
      ]
     },
     "execution_count": 8,
     "metadata": {},
     "output_type": "execute_result"
    }
   ],
   "source": [
    "edge_xyz.shape"
   ]
  }
 ],
 "metadata": {
  "kernelspec": {
   "display_name": "Python 3 (ipykernel)",
   "language": "python",
   "name": "python3"
  },
  "language_info": {
   "codemirror_mode": {
    "name": "ipython",
    "version": 3
   },
   "file_extension": ".py",
   "mimetype": "text/x-python",
   "name": "python",
   "nbconvert_exporter": "python",
   "pygments_lexer": "ipython3",
   "version": "3.8.13"
  }
 },
 "nbformat": 4,
 "nbformat_minor": 5
}
