{
 "cells": [
  {
   "cell_type": "code",
   "execution_count": 1,
   "id": "aa7a2253",
   "metadata": {},
   "outputs": [],
   "source": [
    "import numpy as np\n",
    "from scipy import signal \n",
    "import matplotlib.pyplot as plt\n",
    "\n",
    "import HTC\n",
    "import time"
   ]
  },
  {
   "cell_type": "raw",
   "id": "eca417cd",
   "metadata": {},
   "source": [
    "# Load connectome and normalize it\n",
    "W=np.loadtxt(\"../Data/connectivity_matrix/weights.txt\")\n",
    "W=W/W.sum(axis=1)[:,None]\n",
    "\n",
    "# Create brain object and set its parameters\n",
    "brain=HTC.Brain()\n",
    "brain.connectome(W)\n",
    "n_neurons=brain.n_neurons\n",
    "brain.set_netowrk_parameters(r1=2/n_neurons, r2=(2/n_neurons)**0.2)#, tc=0.15)\n",
    "\n",
    "# Generate initial configuration with 10% active neurons\n",
    "#states_orig = HTC.generate_initial_conf(active_frac=0.1, n_neurons=brain.n_neurons, n_runs=50) # with random configurations\n",
    "\n",
    "# Evolve over time the states (save every step in activity matrix)\n",
    "n_timesteps=6000\n",
    "n_runs=50\n",
    "\n",
    "output=brain.simulation(active_frac=0.5,n_runs=n_runs,tmin=0.0, tmax=0.3, delta_tc=0.01, dt=0.1,\n",
    "                        n_timesteps=n_timesteps, save_rtn=True)\n",
    "#activity=np.zeros((n_runs,n_timesteps, brain.n_neurons)) #storing time, run and activity\n",
    "#states=states_orig\n",
    "\n",
    "# Dummy adjustment of system\n",
    "#for t in range(100):\n",
    "#    states, _ = HTC.update_states(states=states,r1=brain.r1,r2= brain.r2,tc= 0.15,W= W)\n",
    "# Real simulation\n",
    "#for t in range(n_timesteps):\n",
    "#    states, activity[:,t] = HTC.update_states(states=states,r1=brain.r1,r2= brain.r2,tc= 0.15,W= W)"
   ]
  },
  {
   "cell_type": "raw",
   "id": "642a9d03",
   "metadata": {},
   "source": [
    "tc = np.arange(0.0, 0.3, 0.01, dtype=np.float64)\n",
    "tc[15]"
   ]
  },
  {
   "cell_type": "code",
   "execution_count": 2,
   "id": "86f1832a",
   "metadata": {},
   "outputs": [],
   "source": [
    "import pickle\n",
    "output=pickle.load(open('66_0-15_1run.bin','rb'))"
   ]
  },
  {
   "cell_type": "code",
   "execution_count": 3,
   "id": "e01e353f",
   "metadata": {},
   "outputs": [
    {
     "data": {
      "text/plain": [
       "(2, 1, 6000, 66)"
      ]
     },
     "execution_count": 3,
     "metadata": {},
     "output_type": "execute_result"
    }
   ],
   "source": [
    "output[0][0]['activity_rtn'].shape"
   ]
  },
  {
   "cell_type": "raw",
   "id": "4701581d",
   "metadata": {},
   "source": [
    "sample_rate=1/0.1\n",
    "nyquist_freq=sample_rate/2\n",
    "a1=6\n",
    "a2=12\n",
    "b=0.9\n",
    "c=0.35\n",
    "d1=a1*b\n",
    "d2=a2*b\n",
    "\n",
    "time=np.arange(n_timesteps)/sample_rate\n",
    "tt=np.arange(250)/sample_rate\n",
    "\n",
    "hrf=((tt/d1)**a1)*np.exp(-(tt-d1)/b)-c*((tt/d2)**a2)*np.exp(-(tt-d2)/b)"
   ]
  },
  {
   "cell_type": "raw",
   "id": "3c03f595",
   "metadata": {},
   "source": [
    "# FIR filter\n",
    "ntaps=115\n",
    "band=[0.01/nyquist_freq,0.1/nyquist_freq]\n",
    "delay = 0.5 * (ntaps-1) / sample_rate\n",
    "\n",
    "filt_fir = signal.firwin(ntaps, band,\n",
    "                                 pass_zero=False, window='blackmanharris')\n",
    "\n",
    "convolved_signals = np.array(\n",
    "            [np.array(\n",
    "                [np.convolve(output['activity_rtn'][15][run, :, neuron], hrf, mode='valid') for neuron in range(n_neurons)]) for run in range(n_runs)])\n",
    "\n",
    "\n",
    "filtered_signals = np.array(\n",
    "            [np.array(\n",
    "                [np.convolve(convolved_signals[run, neuron, :], filt_fir, mode='valid') for neuron in range(n_neurons)]) for run in range(n_runs)])\n"
   ]
  },
  {
   "cell_type": "code",
   "execution_count": 4,
   "id": "f887ac88",
   "metadata": {},
   "outputs": [],
   "source": [
    "#plt.figure(1)\n",
    "#plt.figure(figsize=(15,15))\n",
    "#x,y=3,2\n",
    "\n",
    "#plt.subplot(x,y,1)\n",
    "#plt.plot(tt,hrf)\n",
    "#plt.xlabel('time')\n",
    "#plt.title('hrf function')\n",
    "#plt.show()"
   ]
  },
  {
   "cell_type": "raw",
   "id": "6acc7df7",
   "metadata": {},
   "source": [
    "#plt.subplot(x,y,2)\n",
    "plt.plot(time,output['activity_rtn'][15][0,:,1], color='b')\n",
    "plt.xlabel('Tempo [s]')\n",
    "plt.ylabel('Attività [u.a.]')\n",
    "plt.xlim(20,100)\n",
    "plt.ylim(-0.5,1.5)\n",
    "plt.grid(linestyle='dotted')\n",
    "plt.savefig('../Figure/attività_simulata.pdf')\n",
    "plt.show()"
   ]
  },
  {
   "cell_type": "code",
   "execution_count": 26,
   "id": "5204604e",
   "metadata": {},
   "outputs": [
    {
     "data": {
      "image/png": "[encoded data removed]",
      "text/plain": [
       "<Figure size 432x288 with 1 Axes>"
      ]
     },
     "metadata": {
      "needs_background": "light"
     },
     "output_type": "display_data"
    }
   ],
   "source": [
    "from matplotlib import colors\n",
    "\n",
    "cmap = colors.ListedColormap(['k','b', 'firebrick'])\n",
    "bounds=[-1.2,-0.1,0.1,1.2]\n",
    "norm = colors.BoundaryNorm(bounds, cmap.N)\n",
    "\n",
    "fig,ax=plt.subplots()\n",
    "#plt.figure(figsize=(15,5))\n",
    "ax.imshow(np.transpose(output[0][0]['activity_rtn'][1][:,0:100]), cmap=cmap, norm=norm)\n",
    "ax.axis('off')\n",
    "plt.xlabel('Timestep')\n",
    "#plt.colorbar()\n",
    "\n",
    "plt.ylabel('ROI')\n",
    "plt.savefig('../FigurePowerPoint/attività_cascata_2.png',bbox_inches='tight', dpi=200)\n",
    "plt.show()\n"
   ]
  },
  {
   "cell_type": "raw",
   "id": "b1477adb",
   "metadata": {},
   "source": [
    "time.shape[0]-len(convolved_signals[0,0,:])+1\n"
   ]
  },
  {
   "cell_type": "code",
   "execution_count": 6,
   "id": "88d9e1e2",
   "metadata": {},
   "outputs": [],
   "source": [
    "\n",
    "#plt.subplot(x,y,3)\n",
    "#plt.plot(time[0+len(hrf)-1:len(convolved_signals[0,0,:])+len(hrf)-1], convolved_signals[0,0,:], color='r')\n",
    "#plt.plot(time,output['activity_rtn'][15][0,:,1], color='b')\n",
    "#plt.xlim(0,50)\n",
    "#plt.plot(time[0:filtered_signals.shape[2]],filtered_signals[0,0,:], label='filtered')\n",
    "#plt.legend()\n",
    "#plt.xlabel('time')\n",
    "#plt.title('convoluted signal')\n",
    "#plt.show()"
   ]
  },
  {
   "cell_type": "raw",
   "id": "daa3cd71",
   "metadata": {},
   "source": [
    " \n",
    "#plt.subplot(x,y,3)\n",
    "plt.plot(time[len(hrf)-1:len(convolved_signals[0,0,:])+len(hrf)-1], convolved_signals[0,0,:], color='r', label='Risposta emodinamica')\n",
    "plt.plot(time,output['activity_rtn'][15][0,:,1], color='b', label='Attività simulata')\n",
    "plt.xlim(550,600)\n",
    "plt.grid(linestyle='dotted')\n",
    "#plt.plot(time[0:filtered_signals.shape[2]],filtered_signals[0,0,:], label='filtered')\n",
    "plt.legend()\n",
    "plt.xlabel('Tempo [s]')\n",
    "plt.ylabel('Ampiezza [u.a.]')\n",
    "plt.savefig('../Figure/convoluzione_attività.pdf')\n",
    "#plt.title('convoluted signal')\n",
    "plt.show()"
   ]
  },
  {
   "cell_type": "raw",
   "id": "107b738b",
   "metadata": {},
   "source": [
    "#plt.subplot(x,y,4)\n",
    "plt.plot(time[0:filtered_signals.shape[2]],filtered_signals[0,0,:], label='filtered')\n",
    "plt.xlabel('time')\n",
    "plt.legend()\n",
    "plt.title('filtered signal')\n",
    "plt.show()\n",
    "\n",
    "\n",
    "#plt.subplot(x,y,5)\n",
    "w,h=signal.freqz(filt_fir)\n",
    "plt.plot((w/np.pi)*nyquist_freq, np.absolute(h), linewidth=2, label='ntaps=%i'%len(filt_fir))\n",
    "plt.legend()\n",
    "plt.xlabel('freq [Hz]')\n",
    "plt.ylabel('gain')\n",
    "plt.title('freq response of fir filter')\n",
    "plt.semilogy()\n",
    "plt.show()\n",
    "\n",
    "#plt.subplot(x,y,6)\n",
    "plt.specgram(convolved_signals[0,0,:],Fs=10)\n",
    "plt.title('spctrogram of convolved signal')\n",
    "plt.xlabel('time')\n",
    "plt.ylabel('freq [Hz]')\n",
    "plt.show()\n",
    "\n",
    "\n",
    "#plt.tight_layout()\n",
    "#plt.show()"
   ]
  },
  {
   "cell_type": "code",
   "execution_count": null,
   "id": "9aa12d1a",
   "metadata": {},
   "outputs": [],
   "source": []
  },
  {
   "cell_type": "code",
   "execution_count": null,
   "id": "cd3c2d86",
   "metadata": {},
   "outputs": [],
   "source": []
  },
  {
   "cell_type": "code",
   "execution_count": null,
   "id": "3d4a403e",
   "metadata": {},
   "outputs": [],
   "source": []
  }
 ],
 "metadata": {
  "kernelspec": {
   "display_name": "Python 3 (ipykernel)",
   "language": "python",
   "name": "python3"
  },
  "language_info": {
   "codemirror_mode": {
    "name": "ipython",
    "version": 3
   },
   "file_extension": ".py",
   "mimetype": "text/x-python",
   "name": "python",
   "nbconvert_exporter": "python",
   "pygments_lexer": "ipython3",
   "version": "3.8.13"
  }
 },
 "nbformat": 4,
 "nbformat_minor": 5
}
